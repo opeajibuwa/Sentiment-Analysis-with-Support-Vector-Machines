{
 "cells": [
  {
   "cell_type": "code",
   "execution_count": 112,
   "id": "e2d8dc8c",
   "metadata": {},
   "outputs": [],
   "source": [
    "import numpy as np\n",
    "import pandas as pd\n",
    "import matplotlib.pyplot as plt\n",
    "import seaborn as sns\n",
    "\n",
    "from sklearn import svm\n",
    "from sklearn.feature_extraction.text import CountVectorizer\n",
    "from sklearn.feature_extraction.text import TfidfVectorizer\n",
    "from sklearn.metrics import accuracy_score\n",
    "from sklearn.metrics import classification_report"
   ]
  },
  {
   "cell_type": "code",
   "execution_count": 113,
   "id": "f447c6ab",
   "metadata": {},
   "outputs": [],
   "source": [
    "train = \"IA3-train.csv\"\n",
    "dev = \"IA3-dev.csv\""
   ]
  },
  {
   "cell_type": "markdown",
   "id": "90c977f8",
   "metadata": {},
   "source": [
    "### Part 0: Preprocessing"
   ]
  },
  {
   "cell_type": "code",
   "execution_count": 114,
   "id": "b8023f29",
   "metadata": {},
   "outputs": [],
   "source": [
    "def load_data(path, sentiment=None):\n",
    "    df = pd.read_csv(path)\n",
    "    y = df['sentiment']\n",
    "    if sentiment != None:\n",
    "        X = df[df['sentiment'] == sentiment]\n",
    "    else:\n",
    "        X = df\n",
    "    return X[\"text\"], y"
   ]
  },
  {
   "cell_type": "markdown",
   "id": "bbfc31fa",
   "metadata": {},
   "source": [
    "##### Part 0(a) - Bag of words feature extraction"
   ]
  },
  {
   "cell_type": "code",
   "execution_count": 115,
   "id": "1b5e9a5c",
   "metadata": {},
   "outputs": [],
   "source": [
    "def extract_most_freq_words(bog, vect_inst, n):\n",
    "    sum_cols = bog.sum(axis=0)\n",
    "    words_freq = [(word, sum_cols[0, pos]) for word, pos in vect_inst.vocabulary_.items()]\n",
    "    words_freq = sorted(words_freq, key = lambda x: x[1], reverse=True)\n",
    "    most_freq = words_freq[:n]\n",
    "    return most_freq"
   ]
  },
  {
   "cell_type": "markdown",
   "id": "a3169a00",
   "metadata": {},
   "source": [
    "###### positive sentiment"
   ]
  },
  {
   "cell_type": "code",
   "execution_count": 116,
   "id": "34feae8e",
   "metadata": {
    "scrolled": true
   },
   "outputs": [
    {
     "name": "stdout",
     "output_type": "stream",
     "text": [
      "The Top ten most frequent positive words using CountVectorizer are-->\n",
      "the : 746\n",
      "you : 716\n",
      "to : 716\n",
      "for : 504\n",
      "thanks : 462\n",
      "jetblue : 455\n",
      "southwestair : 452\n",
      "united : 414\n",
      "thank : 355\n",
      "and : 330\n"
     ]
    }
   ],
   "source": [
    "X_pos, y = load_data(train, sentiment=1)\n",
    "coun_vect = CountVectorizer(lowercase=True)\n",
    "bag_of_words_pos = coun_vect.fit_transform(X_pos)\n",
    "\n",
    "print(\"The Top ten most frequent positive words using CountVectorizer are-->\")\n",
    "for item in extract_most_freq_words(bag_of_words_pos, coun_vect, 10):\n",
    "    print(item[0], \":\", item[1])"
   ]
  },
  {
   "cell_type": "markdown",
   "id": "a4ef07f6",
   "metadata": {},
   "source": [
    "###### negative sentiment"
   ]
  },
  {
   "cell_type": "code",
   "execution_count": 117,
   "id": "dd1edbfc",
   "metadata": {
    "scrolled": false
   },
   "outputs": [
    {
     "name": "stdout",
     "output_type": "stream",
     "text": [
      "The Top ten most frequent negative words using CountVectorizer are-->\n",
      "to : 4741\n",
      "the : 3236\n",
      "flight : 2313\n",
      "united : 2254\n",
      "on : 2202\n",
      "and : 2191\n",
      "you : 2130\n",
      "for : 2104\n",
      "my : 1926\n",
      "usairways : 1885\n"
     ]
    }
   ],
   "source": [
    "X_neg, y = load_data(train, sentiment=0)\n",
    "coun_vect = CountVectorizer(lowercase=True)\n",
    "bag_of_words_neg = coun_vect.fit_transform(X_neg)\n",
    "\n",
    "print(\"The Top ten most frequent negative words using CountVectorizer are-->\")\n",
    "for item in extract_most_freq_words(bag_of_words_neg, coun_vect, 10):\n",
    "    print(item[0], \":\", item[1])"
   ]
  },
  {
   "cell_type": "markdown",
   "id": "3e1ddc4d",
   "metadata": {},
   "source": [
    "##### Part 0(b) - TF-IDF feature extraction"
   ]
  },
  {
   "cell_type": "code",
   "execution_count": 118,
   "id": "b2af9e3b",
   "metadata": {},
   "outputs": [],
   "source": [
    "def extract_mfw_tfidf(tfidf_mat, vect_inst, n):\n",
    "    sum_cols = tfidf_mat.sum(axis=0)\n",
    "    words_freq = [(word, sum_cols[0, pos]) for word, pos in vect_inst.vocabulary_.items()]\n",
    "    words_freq = sorted(words_freq, key = lambda x: x[1], reverse=True)\n",
    "    most_freq = words_freq[:n]\n",
    "    return most_freq"
   ]
  },
  {
   "cell_type": "markdown",
   "id": "020d2147",
   "metadata": {},
   "source": [
    "###### positive sentiment"
   ]
  },
  {
   "cell_type": "code",
   "execution_count": 119,
   "id": "545a492a",
   "metadata": {},
   "outputs": [
    {
     "name": "stdout",
     "output_type": "stream",
     "text": [
      "The Top ten most frequent positive words using TFIDF vectorizer-->\n",
      "you : 110.87825510124587\n",
      "thanks : 91.69079325308267\n",
      "thank : 86.89812339864528\n",
      "the : 81.97299862208087\n",
      "jetblue : 81.19395636146685\n",
      "united : 73.53405657485403\n",
      "to : 73.41805852212777\n",
      "southwestair : 72.43287660004934\n",
      "for : 64.76012443299349\n",
      "americanair : 60.99872365090127\n"
     ]
    }
   ],
   "source": [
    "X_pos, y = load_data(train, sentiment=1)\n",
    "tfidf_vect = TfidfVectorizer(use_idf=True, lowercase=True)\n",
    "tfidf_mat_pos = tfidf_vect.fit_transform(X_pos)\n",
    "\n",
    "print(\"The Top ten most frequent positive words using TFIDF vectorizer-->\")\n",
    "for item in extract_mfw_tfidf(tfidf_mat_pos, tfidf_vect, 10):\n",
    "    print(item[0], \":\", item[1])"
   ]
  },
  {
   "cell_type": "markdown",
   "id": "bd4e82be",
   "metadata": {},
   "source": [
    "###### negative sentiment"
   ]
  },
  {
   "cell_type": "code",
   "execution_count": 120,
   "id": "a6960590",
   "metadata": {},
   "outputs": [
    {
     "name": "stdout",
     "output_type": "stream",
     "text": [
      "The Top ten most frequent negative words using TFIDF vectorizer-->\n",
      "to : 359.2906838073978\n",
      "the : 295.37105839383537\n",
      "flight : 241.58371560220323\n",
      "you : 238.11512888455562\n",
      "united : 237.01120827396764\n",
      "on : 229.74896490472437\n",
      "and : 222.17548084678558\n",
      "for : 221.41670018189913\n",
      "usairways : 214.98042505497082\n",
      "my : 214.8651738529854\n"
     ]
    }
   ],
   "source": [
    "X_neg, y = load_data(train, sentiment=0)\n",
    "tfidf_vect = TfidfVectorizer(use_idf=True, lowercase=True)\n",
    "tfidf_mat_neg = tfidf_vect.fit_transform(X_neg)\n",
    "\n",
    "print(\"The Top ten most frequent negative words using TFIDF vectorizer-->\")\n",
    "for item in extract_mfw_tfidf(tfidf_mat_neg, tfidf_vect, 10):\n",
    "    print(item[0], \":\", item[1])"
   ]
  },
  {
   "cell_type": "markdown",
   "id": "9a331e35",
   "metadata": {},
   "source": [
    "### Part 1: Linear SVM "
   ]
  },
  {
   "cell_type": "code",
   "execution_count": 121,
   "id": "f1d17a93",
   "metadata": {},
   "outputs": [],
   "source": [
    "def linear_svm(c, bog, label):\n",
    "    clf = svm.SVC(kernel='linear', C=c)\n",
    "    clf.fit(bog, label)\n",
    "    bog_array = bog.toarray()\n",
    "    y_pred = clf.predict(bog_array)\n",
    "    acc = accuracy_score(y_pred, label)\n",
    "    print(f\"Accuracy on the linear-svm train set with C value {c}: {acc:.4f}\", \"\\t\")\n",
    "    return clf, acc"
   ]
  },
  {
   "cell_type": "markdown",
   "id": "784b9a52",
   "metadata": {},
   "source": [
    "###### use the TF-IDF vectorizer on the train data to build your vocabulary"
   ]
  },
  {
   "cell_type": "code",
   "execution_count": 122,
   "id": "1a587808",
   "metadata": {},
   "outputs": [],
   "source": [
    "X_train, y_train = load_data(train)\n",
    "tfidf_vect = TfidfVectorizer(use_idf=True, lowercase=True)\n",
    "tfidf_mat_train = tfidf_vect.fit_transform(X_train)"
   ]
  },
  {
   "cell_type": "markdown",
   "id": "17016983",
   "metadata": {},
   "source": [
    "###### get the text (X) and labels (y) of the validation data"
   ]
  },
  {
   "cell_type": "code",
   "execution_count": 123,
   "id": "31dec2b2",
   "metadata": {},
   "outputs": [],
   "source": [
    "X_dev, y_dev = load_data(dev)"
   ]
  },
  {
   "cell_type": "markdown",
   "id": "b3985883",
   "metadata": {},
   "source": [
    "###### convert the validation data into TF-IDF representations using the vocabulary (vectorizer) built with the trained data"
   ]
  },
  {
   "cell_type": "code",
   "execution_count": 124,
   "id": "37bfcbf0",
   "metadata": {},
   "outputs": [],
   "source": [
    "trained_tfidf_vectorizer = tfidf_vect\n",
    "X_test = trained_tfidf_vectorizer.transform(X_dev)"
   ]
  },
  {
   "cell_type": "markdown",
   "id": "e954d606",
   "metadata": {},
   "source": [
    "###### predict using the trained linear classifier and tune the values of the hyperparameter c"
   ]
  },
  {
   "cell_type": "code",
   "execution_count": 174,
   "id": "58ce748f",
   "metadata": {},
   "outputs": [
    {
     "name": "stdout",
     "output_type": "stream",
     "text": [
      "Accuracy on the linear-svm train set with C value 0.0001: 0.7963 \t\n",
      "Accuracy on the linear-svm test set with C value 10^-4: 0.7904\n",
      "---------------------------------------------\n",
      "Accuracy on the linear-svm train set with C value 0.001: 0.7963 \t\n",
      "Accuracy on the linear-svm test set with C value 10^-3: 0.7904\n",
      "---------------------------------------------\n",
      "Accuracy on the linear-svm train set with C value 0.01: 0.7963 \t\n",
      "Accuracy on the linear-svm test set with C value 10^-2: 0.7908\n",
      "---------------------------------------------\n",
      "Accuracy on the linear-svm train set with C value 0.1: 0.8736 \t\n",
      "Accuracy on the linear-svm test set with C value 10^-1: 0.8692\n",
      "---------------------------------------------\n",
      "Accuracy on the linear-svm train set with C value 1: 0.9699 \t\n",
      "Accuracy on the linear-svm test set with C value 10^0: 0.9260\n",
      "---------------------------------------------\n",
      "Accuracy on the linear-svm train set with C value 10: 0.9981 \t\n",
      "Accuracy on the linear-svm test set with C value 10^1: 0.9120\n",
      "---------------------------------------------\n",
      "Accuracy on the linear-svm train set with C value 100: 0.9997 \t\n",
      "Accuracy on the linear-svm test set with C value 10^2: 0.9068\n",
      "---------------------------------------------\n",
      "Accuracy on the linear-svm train set with C value 1000: 0.9997 \t\n",
      "Accuracy on the linear-svm test set with C value 10^3: 0.9068\n",
      "---------------------------------------------\n",
      "Accuracy on the linear-svm train set with C value 10000: 0.9997 \t\n",
      "Accuracy on the linear-svm test set with C value 10^4: 0.9068\n",
      "---------------------------------------------\n"
     ]
    }
   ],
   "source": [
    "c = [-4, -3, -2, -1, 0, 1, 2, 3, 4]\n",
    "training_acc = []\n",
    "validation_acc = []\n",
    "n_support_vectors = []\n",
    "for i in c:\n",
    "    linear_clf, train_acc = linear_svm(pow(10, i), tfidf_mat_train, y_train)\n",
    "    linear_ypred = linear_clf.predict(X_test)\n",
    "    linear_acc = accuracy_score(linear_ypred, y_dev)\n",
    "    training_acc.append(train_acc)\n",
    "    validation_acc.append(linear_acc)\n",
    "    n_support_vectors.append(sum(linear_clf.n_support_))\n",
    "    print(f\"Accuracy on the linear-svm test set with C value 10^{i}: {linear_acc:.4f}\")\n",
    "    print(\"---------------------------------------------\")"
   ]
  },
  {
   "cell_type": "markdown",
   "id": "2809671e",
   "metadata": {},
   "source": [
    "###### plot of the training and validation accuracy for linear svm"
   ]
  },
  {
   "cell_type": "code",
   "execution_count": 160,
   "id": "317bc383",
   "metadata": {
    "scrolled": true
   },
   "outputs": [
    {
     "name": "stdout",
     "output_type": "stream",
     "text": [
      "Plot of training versus validation accuracy...\t\n",
      "Done.\n",
      "\n"
     ]
    },
    {
     "data": {
      "image/png": "[encoded data removed]",
      "text/plain": [
       "<Figure size 576x432 with 1 Axes>"
      ]
     },
     "metadata": {
      "needs_background": "light"
     },
     "output_type": "display_data"
    }
   ],
   "source": [
    "print('Plot of training versus validation accuracy...\\t')\n",
    "\n",
    "c = [1e-4, 1e-3, 1e-2, 1e-1, 1, 1e1, 1e2, 1e3, 1e4]\n",
    "fig, ax3 = plt.subplots(figsize=(8, 6), tight_layout=True)\n",
    "ax3.semilogx(c, training_acc, color='r', marker='o', markerfacecolor='m')\n",
    "ax3.semilogx(c, validation_acc, color='b', marker='x', markerfacecolor='r')\n",
    "\n",
    "min_axis = min(min(training_acc), min(validation_acc))\n",
    "max_axis = max(max(training_acc), max(validation_acc))\n",
    "\n",
    "ax3.set_ylabel(f'accuracy', color='r')\n",
    "ax3.set_xlabel(f'c')\n",
    "ax3.set_xlim([1e-4, 1e5])\n",
    "ax3.set_ylim(0.7, 1.1)\n",
    "ax3.set_title(f\"Classification Accuracy\", color='k', weight='normal', size=10)\n",
    "ax3.legend([\"training\", \"validation\"], loc=\"upper left\")\n",
    "\n",
    "plt.savefig(\"linear_train_dev_acc_cmp.jpg\")\n",
    "print('Done.\\n')"
   ]
  },
  {
   "cell_type": "markdown",
   "id": "1bb8fed1",
   "metadata": {},
   "source": [
    "###### plot of the number of support vectors versus the regularization parameters, c for linear svm"
   ]
  },
  {
   "cell_type": "code",
   "execution_count": 168,
   "id": "9fa180ef",
   "metadata": {
    "scrolled": true
   },
   "outputs": [
    {
     "name": "stdout",
     "output_type": "stream",
     "text": [
      "Plot of no of support vectors versus c...\t\n"
     ]
    },
    {
     "ename": "ValueError",
     "evalue": "x and y must have same first dimension, but have shapes (9,) and (1,)",
     "output_type": "error",
     "traceback": [
      "\u001b[1;31m---------------------------------------------------------------------------\u001b[0m",
      "\u001b[1;31mValueError\u001b[0m                                Traceback (most recent call last)",
      "Input \u001b[1;32mIn [168]\u001b[0m, in \u001b[0;36m<cell line: 5>\u001b[1;34m()\u001b[0m\n\u001b[0;32m      3\u001b[0m c \u001b[38;5;241m=\u001b[39m [\u001b[38;5;241m1e-4\u001b[39m, \u001b[38;5;241m1e-3\u001b[39m, \u001b[38;5;241m1e-2\u001b[39m, \u001b[38;5;241m1e-1\u001b[39m, \u001b[38;5;241m1\u001b[39m, \u001b[38;5;241m1e1\u001b[39m, \u001b[38;5;241m1e2\u001b[39m, \u001b[38;5;241m1e3\u001b[39m, \u001b[38;5;241m1e4\u001b[39m]\n\u001b[0;32m      4\u001b[0m fig, ax4 \u001b[38;5;241m=\u001b[39m plt\u001b[38;5;241m.\u001b[39msubplots(figsize\u001b[38;5;241m=\u001b[39m(\u001b[38;5;241m8\u001b[39m, \u001b[38;5;241m6\u001b[39m), tight_layout\u001b[38;5;241m=\u001b[39m\u001b[38;5;28;01mTrue\u001b[39;00m)\n\u001b[1;32m----> 5\u001b[0m \u001b[43max4\u001b[49m\u001b[38;5;241;43m.\u001b[39;49m\u001b[43msemilogx\u001b[49m\u001b[43m(\u001b[49m\u001b[43mc\u001b[49m\u001b[43m,\u001b[49m\u001b[43m \u001b[49m\u001b[43mn_support_vectors\u001b[49m\u001b[43m,\u001b[49m\u001b[43m \u001b[49m\u001b[43mcolor\u001b[49m\u001b[38;5;241;43m=\u001b[39;49m\u001b[38;5;124;43m'\u001b[39;49m\u001b[38;5;124;43mr\u001b[39;49m\u001b[38;5;124;43m'\u001b[39;49m\u001b[43m,\u001b[49m\u001b[43m \u001b[49m\u001b[43mmarker\u001b[49m\u001b[38;5;241;43m=\u001b[39;49m\u001b[38;5;124;43m'\u001b[39;49m\u001b[38;5;124;43mo\u001b[39;49m\u001b[38;5;124;43m'\u001b[39;49m\u001b[43m,\u001b[49m\u001b[43m \u001b[49m\u001b[43mmarkerfacecolor\u001b[49m\u001b[38;5;241;43m=\u001b[39;49m\u001b[38;5;124;43m'\u001b[39;49m\u001b[38;5;124;43mm\u001b[39;49m\u001b[38;5;124;43m'\u001b[39;49m\u001b[43m)\u001b[49m\n\u001b[0;32m      7\u001b[0m ax4\u001b[38;5;241m.\u001b[39mset_ylabel(\u001b[38;5;124mf\u001b[39m\u001b[38;5;124m'\u001b[39m\u001b[38;5;124mno of support vectors\u001b[39m\u001b[38;5;124m'\u001b[39m, color\u001b[38;5;241m=\u001b[39m\u001b[38;5;124m'\u001b[39m\u001b[38;5;124mr\u001b[39m\u001b[38;5;124m'\u001b[39m)\n\u001b[0;32m      8\u001b[0m ax4\u001b[38;5;241m.\u001b[39mset_xlabel(\u001b[38;5;124mf\u001b[39m\u001b[38;5;124m'\u001b[39m\u001b[38;5;124mc\u001b[39m\u001b[38;5;124m'\u001b[39m)\n",
      "File \u001b[1;32m~\\anaconda3\\lib\\site-packages\\matplotlib\\axes\\_axes.py:1817\u001b[0m, in \u001b[0;36mAxes.semilogx\u001b[1;34m(self, *args, **kwargs)\u001b[0m\n\u001b[0;32m   1813\u001b[0m d \u001b[38;5;241m=\u001b[39m {k: v \u001b[38;5;28;01mfor\u001b[39;00m k, v \u001b[38;5;129;01min\u001b[39;00m kwargs\u001b[38;5;241m.\u001b[39mitems()\n\u001b[0;32m   1814\u001b[0m      \u001b[38;5;28;01mif\u001b[39;00m k \u001b[38;5;129;01min\u001b[39;00m [\u001b[38;5;124m'\u001b[39m\u001b[38;5;124mbase\u001b[39m\u001b[38;5;124m'\u001b[39m, \u001b[38;5;124m'\u001b[39m\u001b[38;5;124msubs\u001b[39m\u001b[38;5;124m'\u001b[39m, \u001b[38;5;124m'\u001b[39m\u001b[38;5;124mnonpositive\u001b[39m\u001b[38;5;124m'\u001b[39m,\n\u001b[0;32m   1815\u001b[0m               \u001b[38;5;124m'\u001b[39m\u001b[38;5;124mbasex\u001b[39m\u001b[38;5;124m'\u001b[39m, \u001b[38;5;124m'\u001b[39m\u001b[38;5;124msubsx\u001b[39m\u001b[38;5;124m'\u001b[39m, \u001b[38;5;124m'\u001b[39m\u001b[38;5;124mnonposx\u001b[39m\u001b[38;5;124m'\u001b[39m]}\n\u001b[0;32m   1816\u001b[0m \u001b[38;5;28mself\u001b[39m\u001b[38;5;241m.\u001b[39mset_xscale(\u001b[38;5;124m'\u001b[39m\u001b[38;5;124mlog\u001b[39m\u001b[38;5;124m'\u001b[39m, \u001b[38;5;241m*\u001b[39m\u001b[38;5;241m*\u001b[39md)\n\u001b[1;32m-> 1817\u001b[0m \u001b[38;5;28;01mreturn\u001b[39;00m \u001b[38;5;28mself\u001b[39m\u001b[38;5;241m.\u001b[39mplot(\n\u001b[0;32m   1818\u001b[0m     \u001b[38;5;241m*\u001b[39margs, \u001b[38;5;241m*\u001b[39m\u001b[38;5;241m*\u001b[39m{k: v \u001b[38;5;28;01mfor\u001b[39;00m k, v \u001b[38;5;129;01min\u001b[39;00m kwargs\u001b[38;5;241m.\u001b[39mitems() \u001b[38;5;28;01mif\u001b[39;00m k \u001b[38;5;129;01mnot\u001b[39;00m \u001b[38;5;129;01min\u001b[39;00m d})\n",
      "File \u001b[1;32m~\\anaconda3\\lib\\site-packages\\matplotlib\\axes\\_axes.py:1632\u001b[0m, in \u001b[0;36mAxes.plot\u001b[1;34m(self, scalex, scaley, data, *args, **kwargs)\u001b[0m\n\u001b[0;32m   1390\u001b[0m \u001b[38;5;124;03m\"\"\"\u001b[39;00m\n\u001b[0;32m   1391\u001b[0m \u001b[38;5;124;03mPlot y versus x as lines and/or markers.\u001b[39;00m\n\u001b[0;32m   1392\u001b[0m \n\u001b[1;32m   (...)\u001b[0m\n\u001b[0;32m   1629\u001b[0m \u001b[38;5;124;03m(``'green'``) or hex strings (``'#008000'``).\u001b[39;00m\n\u001b[0;32m   1630\u001b[0m \u001b[38;5;124;03m\"\"\"\u001b[39;00m\n\u001b[0;32m   1631\u001b[0m kwargs \u001b[38;5;241m=\u001b[39m cbook\u001b[38;5;241m.\u001b[39mnormalize_kwargs(kwargs, mlines\u001b[38;5;241m.\u001b[39mLine2D)\n\u001b[1;32m-> 1632\u001b[0m lines \u001b[38;5;241m=\u001b[39m [\u001b[38;5;241m*\u001b[39m\u001b[38;5;28mself\u001b[39m\u001b[38;5;241m.\u001b[39m_get_lines(\u001b[38;5;241m*\u001b[39margs, data\u001b[38;5;241m=\u001b[39mdata, \u001b[38;5;241m*\u001b[39m\u001b[38;5;241m*\u001b[39mkwargs)]\n\u001b[0;32m   1633\u001b[0m \u001b[38;5;28;01mfor\u001b[39;00m line \u001b[38;5;129;01min\u001b[39;00m lines:\n\u001b[0;32m   1634\u001b[0m     \u001b[38;5;28mself\u001b[39m\u001b[38;5;241m.\u001b[39madd_line(line)\n",
      "File \u001b[1;32m~\\anaconda3\\lib\\site-packages\\matplotlib\\axes\\_base.py:312\u001b[0m, in \u001b[0;36m_process_plot_var_args.__call__\u001b[1;34m(self, data, *args, **kwargs)\u001b[0m\n\u001b[0;32m    310\u001b[0m     this \u001b[38;5;241m+\u001b[39m\u001b[38;5;241m=\u001b[39m args[\u001b[38;5;241m0\u001b[39m],\n\u001b[0;32m    311\u001b[0m     args \u001b[38;5;241m=\u001b[39m args[\u001b[38;5;241m1\u001b[39m:]\n\u001b[1;32m--> 312\u001b[0m \u001b[38;5;28;01myield from\u001b[39;00m \u001b[38;5;28;43mself\u001b[39;49m\u001b[38;5;241;43m.\u001b[39;49m\u001b[43m_plot_args\u001b[49m\u001b[43m(\u001b[49m\u001b[43mthis\u001b[49m\u001b[43m,\u001b[49m\u001b[43m \u001b[49m\u001b[43mkwargs\u001b[49m\u001b[43m)\u001b[49m\n",
      "File \u001b[1;32m~\\anaconda3\\lib\\site-packages\\matplotlib\\axes\\_base.py:498\u001b[0m, in \u001b[0;36m_process_plot_var_args._plot_args\u001b[1;34m(self, tup, kwargs, return_kwargs)\u001b[0m\n\u001b[0;32m    495\u001b[0m     \u001b[38;5;28mself\u001b[39m\u001b[38;5;241m.\u001b[39maxes\u001b[38;5;241m.\u001b[39myaxis\u001b[38;5;241m.\u001b[39mupdate_units(y)\n\u001b[0;32m    497\u001b[0m \u001b[38;5;28;01mif\u001b[39;00m x\u001b[38;5;241m.\u001b[39mshape[\u001b[38;5;241m0\u001b[39m] \u001b[38;5;241m!=\u001b[39m y\u001b[38;5;241m.\u001b[39mshape[\u001b[38;5;241m0\u001b[39m]:\n\u001b[1;32m--> 498\u001b[0m     \u001b[38;5;28;01mraise\u001b[39;00m \u001b[38;5;167;01mValueError\u001b[39;00m(\u001b[38;5;124mf\u001b[39m\u001b[38;5;124m\"\u001b[39m\u001b[38;5;124mx and y must have same first dimension, but \u001b[39m\u001b[38;5;124m\"\u001b[39m\n\u001b[0;32m    499\u001b[0m                      \u001b[38;5;124mf\u001b[39m\u001b[38;5;124m\"\u001b[39m\u001b[38;5;124mhave shapes \u001b[39m\u001b[38;5;132;01m{\u001b[39;00mx\u001b[38;5;241m.\u001b[39mshape\u001b[38;5;132;01m}\u001b[39;00m\u001b[38;5;124m and \u001b[39m\u001b[38;5;132;01m{\u001b[39;00my\u001b[38;5;241m.\u001b[39mshape\u001b[38;5;132;01m}\u001b[39;00m\u001b[38;5;124m\"\u001b[39m)\n\u001b[0;32m    500\u001b[0m \u001b[38;5;28;01mif\u001b[39;00m x\u001b[38;5;241m.\u001b[39mndim \u001b[38;5;241m>\u001b[39m \u001b[38;5;241m2\u001b[39m \u001b[38;5;129;01mor\u001b[39;00m y\u001b[38;5;241m.\u001b[39mndim \u001b[38;5;241m>\u001b[39m \u001b[38;5;241m2\u001b[39m:\n\u001b[0;32m    501\u001b[0m     \u001b[38;5;28;01mraise\u001b[39;00m \u001b[38;5;167;01mValueError\u001b[39;00m(\u001b[38;5;124mf\u001b[39m\u001b[38;5;124m\"\u001b[39m\u001b[38;5;124mx and y can be no greater than 2D, but have \u001b[39m\u001b[38;5;124m\"\u001b[39m\n\u001b[0;32m    502\u001b[0m                      \u001b[38;5;124mf\u001b[39m\u001b[38;5;124m\"\u001b[39m\u001b[38;5;124mshapes \u001b[39m\u001b[38;5;132;01m{\u001b[39;00mx\u001b[38;5;241m.\u001b[39mshape\u001b[38;5;132;01m}\u001b[39;00m\u001b[38;5;124m and \u001b[39m\u001b[38;5;132;01m{\u001b[39;00my\u001b[38;5;241m.\u001b[39mshape\u001b[38;5;132;01m}\u001b[39;00m\u001b[38;5;124m\"\u001b[39m)\n",
      "\u001b[1;31mValueError\u001b[0m: x and y must have same first dimension, but have shapes (9,) and (1,)"
     ]
    },
    {
     "data": {
      "image/png": "[encoded data removed]",
      "text/plain": [
       "<Figure size 576x432 with 1 Axes>"
      ]
     },
     "metadata": {
      "needs_background": "light"
     },
     "output_type": "display_data"
    }
   ],
   "source": [
    "print('Plot of no of support vectors versus c...\\t')\n",
    "\n",
    "c = [1e-4, 1e-3, 1e-2, 1e-1, 1, 1e1, 1e2, 1e3, 1e4]\n",
    "fig, ax4 = plt.subplots(figsize=(8, 6), tight_layout=True)\n",
    "ax4.semilogx(c, n_support_vectors, color='r', marker='o', markerfacecolor='m')\n",
    "\n",
    "ax4.set_ylabel(f'no of support vectors', color='r')\n",
    "ax4.set_xlabel(f'c')\n",
    "ax4.set_xlim([1e-4, 1e4])\n",
    "ax4.set_ylim(2300, 4000)\n",
    "ax4.set_title(f\"Number of support vectors\", color='k', weight='normal', size=10)\n",
    "\n",
    "plt.savefig(\"linear_support_vectors.jpg\")\n",
    "print('Done.\\n')"
   ]
  },
  {
   "cell_type": "markdown",
   "id": "8c177429",
   "metadata": {},
   "source": [
    "### Part 2: Quadratic SVM "
   ]
  },
  {
   "cell_type": "code",
   "execution_count": 175,
   "id": "c64fa619",
   "metadata": {},
   "outputs": [],
   "source": [
    "def quadratic_svm(c, bog, label):\n",
    "    clf = svm.SVC(kernel='poly', C=c, degree=2, coef0=10)\n",
    "    clf.fit(bog, label)\n",
    "    bog_array = bog.toarray()\n",
    "    y_pred = clf.predict(bog_array)\n",
    "    acc = accuracy_score(y_pred, label)\n",
    "    print(f\"Accuracy on the quadratic-svm train set with C value {c}: {acc:.4f}\", \"\\t\")\n",
    "    return clf, acc"
   ]
  },
  {
   "cell_type": "markdown",
   "id": "260267d5",
   "metadata": {},
   "source": [
    "###### predict using the trained quadratic classifier and tune the values of the hyperparameter c"
   ]
  },
  {
   "cell_type": "code",
   "execution_count": 176,
   "id": "7c184fd7",
   "metadata": {},
   "outputs": [
    {
     "name": "stdout",
     "output_type": "stream",
     "text": [
      "Accuracy on the quadratic-svm train set with C value 0.0001: 0.7963 \t\n",
      "Accuracy on the quadratic-svm test set with C value 10^-4: 0.7904\n",
      "---------------------------------------------\n",
      "Accuracy on the quadratic-svm train set with C value 0.001: 0.8146 \t\n",
      "Accuracy on the quadratic-svm test set with C value 10^-3: 0.8132\n",
      "---------------------------------------------\n",
      "Accuracy on the quadratic-svm train set with C value 0.01: 0.9062 \t\n",
      "Accuracy on the quadratic-svm test set with C value 10^-2: 0.8984\n",
      "---------------------------------------------\n",
      "Accuracy on the quadratic-svm train set with C value 0.1: 0.9877 \t\n",
      "Accuracy on the quadratic-svm test set with C value 10^-1: 0.9260\n",
      "---------------------------------------------\n",
      "Accuracy on the quadratic-svm train set with C value 1: 0.9997 \t\n",
      "Accuracy on the quadratic-svm test set with C value 10^0: 0.9128\n",
      "---------------------------------------------\n",
      "Accuracy on the quadratic-svm train set with C value 10: 0.9997 \t\n",
      "Accuracy on the quadratic-svm test set with C value 10^1: 0.9124\n",
      "---------------------------------------------\n",
      "Accuracy on the quadratic-svm train set with C value 100: 0.9997 \t\n",
      "Accuracy on the quadratic-svm test set with C value 10^2: 0.9124\n",
      "---------------------------------------------\n",
      "Accuracy on the quadratic-svm train set with C value 1000: 0.9997 \t\n",
      "Accuracy on the quadratic-svm test set with C value 10^3: 0.9124\n",
      "---------------------------------------------\n",
      "Accuracy on the quadratic-svm train set with C value 10000: 0.9997 \t\n",
      "Accuracy on the quadratic-svm test set with C value 10^4: 0.9124\n",
      "---------------------------------------------\n"
     ]
    }
   ],
   "source": [
    "c = [-4, -3, -2, -1, 0, 1, 2, 3, 4]\n",
    "training_acc = []\n",
    "validation_acc = []\n",
    "n_support_vectors_quad = []\n",
    "for i in c:\n",
    "    quad_clf, train_acc = quadratic_svm(pow(10, i), tfidf_mat_train, y_train)\n",
    "    quad_ypred = quad_clf.predict(X_test)\n",
    "    quad_acc = accuracy_score(quad_ypred, y_dev)\n",
    "    training_acc.append(train_acc)\n",
    "    validation_acc.append(quad_acc)\n",
    "    n_support_vectors_quad.append(sum(quad_clf.n_support_))\n",
    "    print(f\"Accuracy on the quadratic-svm test set with C value 10^{i}: {quad_acc:.4f}\")\n",
    "    print(\"---------------------------------------------\")"
   ]
  },
  {
   "cell_type": "markdown",
   "id": "177e2da9",
   "metadata": {},
   "source": [
    "###### plot of the training and validation accuracy for quadratic svm"
   ]
  },
  {
   "cell_type": "code",
   "execution_count": 170,
   "id": "d87e5db7",
   "metadata": {
    "scrolled": false
   },
   "outputs": [
    {
     "name": "stdout",
     "output_type": "stream",
     "text": [
      "Plot of training versus validation accuracy...\t\n",
      "Done.\n",
      "\n"
     ]
    },
    {
     "data": {
      "image/png": "[encoded data removed]",
      "text/plain": [
       "<Figure size 576x432 with 1 Axes>"
      ]
     },
     "metadata": {
      "needs_background": "light"
     },
     "output_type": "display_data"
    }
   ],
   "source": [
    "print('Plot of training versus validation accuracy...\\t')\n",
    "\n",
    "c = [1e-4, 1e-3, 1e-2, 1e-1, 1, 1e1, 1e2, 1e3, 1e4]\n",
    "fig, ax3 = plt.subplots(figsize=(8, 6), tight_layout=True)\n",
    "ax3.semilogx(c, training_acc, color='r', marker='o', markerfacecolor='m')\n",
    "\n",
    "ax3.semilogx(c, validation_acc, color='b', marker='x', markerfacecolor='r')\n",
    "\n",
    "ax3.set_ylabel(f'accuracy', color='r')\n",
    "ax3.set_xlabel(f'c')\n",
    "ax3.set_xlim([1e-4, 1e4])\n",
    "ax3.set_ylim(0.78, 1.01)\n",
    "ax3.set_title(f\"Classification Accuracy\", color='k', weight='normal', size=10)\n",
    "ax3.legend([\"training\", \"validation\"], loc=\"upper left\")\n",
    "\n",
    "plt.savefig(\"quad_train_dev_acc_cmp.jpg\")\n",
    "print('Done.\\n')"
   ]
  },
  {
   "cell_type": "markdown",
   "id": "2985c2d8",
   "metadata": {},
   "source": [
    "###### plot of the number of support vectors versus the regularization parameters, c for quadratic svm"
   ]
  },
  {
   "cell_type": "code",
   "execution_count": 178,
   "id": "e9e8b001",
   "metadata": {
    "scrolled": true
   },
   "outputs": [
    {
     "name": "stdout",
     "output_type": "stream",
     "text": [
      "Plot of training versus validation accuracy...\t\n",
      "Done.\n",
      "\n"
     ]
    },
    {
     "data": {
      "image/png": "[encoded data removed]",
      "text/plain": [
       "<Figure size 576x432 with 1 Axes>"
      ]
     },
     "metadata": {
      "needs_background": "light"
     },
     "output_type": "display_data"
    }
   ],
   "source": [
    "print('Plot of number of support vectors verus c...\\t')\n",
    "\n",
    "c = [1e-4, 1e-3, 1e-2, 1e-1, 1, 1e1, 1e2, 1e3, 1e4]\n",
    "fig, ax4 = plt.subplots(figsize=(8, 6), tight_layout=True)\n",
    "ax4.semilogx(c, n_support_vectors_quad, color='r', marker='o', markerfacecolor='m')\n",
    "\n",
    "ax4.set_ylabel(f'no of support vectors', color='r')\n",
    "ax4.set_xlabel(f'c')\n",
    "ax4.set_xlim([1e-4, 1e4])\n",
    "ax4.set_ylim(2300, 4000)\n",
    "ax4.set_title(f\"Number of support vectors\", color='k', weight='normal', size=10)\n",
    "\n",
    "plt.savefig(\"quad_support_vectors.jpg\")\n",
    "print('Done.\\n')"
   ]
  },
  {
   "cell_type": "markdown",
   "id": "33d5ea27",
   "metadata": {},
   "source": [
    "### Part 3: SVM with RBF kernel"
   ]
  },
  {
   "cell_type": "code",
   "execution_count": 206,
   "id": "afbd6523",
   "metadata": {},
   "outputs": [],
   "source": [
    "def rbf_svm(c, bog, label, gamma_val='scale'):\n",
    "    clf = svm.SVC(kernel='rbf', C=c, gamma=gamma_val)\n",
    "    clf.fit(bog, label)\n",
    "    bog_array = bog.toarray()\n",
    "    y_pred = clf.predict(bog_array)\n",
    "    acc = accuracy_score(y_pred, label)\n",
    "    print(f\"Accuracy on the rbf-svm train set with C value {c} and gamma value {gamma_val}: {acc:.4f}\", \"\\t\")\n",
    "    return clf, acc"
   ]
  },
  {
   "cell_type": "markdown",
   "id": "45077a75",
   "metadata": {},
   "source": [
    "###### predict using the trained rbf classifier and tune the values of the hyperparameters c and \\gamma"
   ]
  },
  {
   "cell_type": "code",
   "execution_count": 207,
   "id": "83876ade",
   "metadata": {
    "scrolled": true
   },
   "outputs": [
    {
     "name": "stdout",
     "output_type": "stream",
     "text": [
      "Accuracy on the rbf-svm train set with C value 0.001 and gamma value 0.0001: 0.7963 \t\n",
      "Accuracy on the rbf-svm test set with C value 0.001 and gamma value 0.0001: 0.7904\n",
      "---------------------------------------------\n",
      "Accuracy on the rbf-svm train set with C value 0.001 and gamma value 0.001: 0.7963 \t\n",
      "Accuracy on the rbf-svm test set with C value 0.001 and gamma value 0.001: 0.7904\n",
      "---------------------------------------------\n",
      "Accuracy on the rbf-svm train set with C value 0.001 and gamma value 0.01: 0.7963 \t\n",
      "Accuracy on the rbf-svm test set with C value 0.001 and gamma value 0.01: 0.7904\n",
      "---------------------------------------------\n",
      "Accuracy on the rbf-svm train set with C value 0.001 and gamma value 0.1: 0.7963 \t\n",
      "Accuracy on the rbf-svm test set with C value 0.001 and gamma value 0.1: 0.7904\n",
      "---------------------------------------------\n",
      "Accuracy on the rbf-svm train set with C value 0.001 and gamma value 1.0: 0.7963 \t\n",
      "Accuracy on the rbf-svm test set with C value 0.001 and gamma value 1.0: 0.7904\n",
      "---------------------------------------------\n",
      "Accuracy on the rbf-svm train set with C value 0.001 and gamma value 10.0: 0.7963 \t\n",
      "Accuracy on the rbf-svm test set with C value 0.001 and gamma value 10.0: 0.7904\n",
      "---------------------------------------------\n",
      "Accuracy on the rbf-svm train set with C value 0.001 and gamma value 100.0: 0.7963 \t\n",
      "Accuracy on the rbf-svm test set with C value 0.001 and gamma value 100.0: 0.7904\n",
      "---------------------------------------------\n",
      "Accuracy on the rbf-svm train set with C value 0.01 and gamma value 0.0001: 0.7963 \t\n",
      "Accuracy on the rbf-svm test set with C value 0.01 and gamma value 0.0001: 0.7904\n",
      "---------------------------------------------\n",
      "Accuracy on the rbf-svm train set with C value 0.01 and gamma value 0.001: 0.7963 \t\n",
      "Accuracy on the rbf-svm test set with C value 0.01 and gamma value 0.001: 0.7904\n",
      "---------------------------------------------\n",
      "Accuracy on the rbf-svm train set with C value 0.01 and gamma value 0.01: 0.7963 \t\n",
      "Accuracy on the rbf-svm test set with C value 0.01 and gamma value 0.01: 0.7904\n",
      "---------------------------------------------\n",
      "Accuracy on the rbf-svm train set with C value 0.01 and gamma value 0.1: 0.7963 \t\n",
      "Accuracy on the rbf-svm test set with C value 0.01 and gamma value 0.1: 0.7904\n",
      "---------------------------------------------\n",
      "Accuracy on the rbf-svm train set with C value 0.01 and gamma value 1.0: 0.7963 \t\n",
      "Accuracy on the rbf-svm test set with C value 0.01 and gamma value 1.0: 0.7904\n",
      "---------------------------------------------\n",
      "Accuracy on the rbf-svm train set with C value 0.01 and gamma value 10.0: 0.7963 \t\n",
      "Accuracy on the rbf-svm test set with C value 0.01 and gamma value 10.0: 0.7904\n",
      "---------------------------------------------\n",
      "Accuracy on the rbf-svm train set with C value 0.01 and gamma value 100.0: 0.7963 \t\n",
      "Accuracy on the rbf-svm test set with C value 0.01 and gamma value 100.0: 0.7904\n",
      "---------------------------------------------\n",
      "Accuracy on the rbf-svm train set with C value 0.1 and gamma value 0.0001: 0.7963 \t\n",
      "Accuracy on the rbf-svm test set with C value 0.1 and gamma value 0.0001: 0.7904\n",
      "---------------------------------------------\n",
      "Accuracy on the rbf-svm train set with C value 0.1 and gamma value 0.001: 0.7963 \t\n",
      "Accuracy on the rbf-svm test set with C value 0.1 and gamma value 0.001: 0.7904\n",
      "---------------------------------------------\n",
      "Accuracy on the rbf-svm train set with C value 0.1 and gamma value 0.01: 0.7963 \t\n",
      "Accuracy on the rbf-svm test set with C value 0.1 and gamma value 0.01: 0.7904\n",
      "---------------------------------------------\n",
      "Accuracy on the rbf-svm train set with C value 0.1 and gamma value 0.1: 0.8102 \t\n",
      "Accuracy on the rbf-svm test set with C value 0.1 and gamma value 0.1: 0.8080\n",
      "---------------------------------------------\n",
      "Accuracy on the rbf-svm train set with C value 0.1 and gamma value 1.0: 0.8262 \t\n",
      "Accuracy on the rbf-svm test set with C value 0.1 and gamma value 1.0: 0.8216\n",
      "---------------------------------------------\n",
      "Accuracy on the rbf-svm train set with C value 0.1 and gamma value 10.0: 0.7998 \t\n",
      "Accuracy on the rbf-svm test set with C value 0.1 and gamma value 10.0: 0.7928\n",
      "---------------------------------------------\n",
      "Accuracy on the rbf-svm train set with C value 0.1 and gamma value 100.0: 0.7998 \t\n",
      "Accuracy on the rbf-svm test set with C value 0.1 and gamma value 100.0: 0.7928\n",
      "---------------------------------------------\n",
      "Accuracy on the rbf-svm train set with C value 1.0 and gamma value 0.0001: 0.7963 \t\n",
      "Accuracy on the rbf-svm test set with C value 1.0 and gamma value 0.0001: 0.7904\n",
      "---------------------------------------------\n",
      "Accuracy on the rbf-svm train set with C value 1.0 and gamma value 0.001: 0.7963 \t\n",
      "Accuracy on the rbf-svm test set with C value 1.0 and gamma value 0.001: 0.7904\n",
      "---------------------------------------------\n",
      "Accuracy on the rbf-svm train set with C value 1.0 and gamma value 0.01: 0.8139 \t\n",
      "Accuracy on the rbf-svm test set with C value 1.0 and gamma value 0.01: 0.8132\n",
      "---------------------------------------------\n",
      "Accuracy on the rbf-svm train set with C value 1.0 and gamma value 0.1: 0.8981 \t\n",
      "Accuracy on the rbf-svm test set with C value 1.0 and gamma value 0.1: 0.8916\n",
      "---------------------------------------------\n",
      "Accuracy on the rbf-svm train set with C value 1.0 and gamma value 1.0: 0.9906 \t\n",
      "Accuracy on the rbf-svm test set with C value 1.0 and gamma value 1.0: 0.9164\n",
      "---------------------------------------------\n",
      "Accuracy on the rbf-svm train set with C value 1.0 and gamma value 10.0: 0.9997 \t\n",
      "Accuracy on the rbf-svm test set with C value 1.0 and gamma value 10.0: 0.8052\n",
      "---------------------------------------------\n",
      "Accuracy on the rbf-svm train set with C value 1.0 and gamma value 100.0: 0.9997 \t\n",
      "Accuracy on the rbf-svm test set with C value 1.0 and gamma value 100.0: 0.8040\n",
      "---------------------------------------------\n",
      "Accuracy on the rbf-svm train set with C value 10.0 and gamma value 0.0001: 0.7963 \t\n",
      "Accuracy on the rbf-svm test set with C value 10.0 and gamma value 0.0001: 0.7904\n",
      "---------------------------------------------\n",
      "Accuracy on the rbf-svm train set with C value 10.0 and gamma value 0.001: 0.8143 \t\n",
      "Accuracy on the rbf-svm test set with C value 10.0 and gamma value 0.001: 0.8136\n",
      "---------------------------------------------\n",
      "Accuracy on the rbf-svm train set with C value 10.0 and gamma value 0.01: 0.9041 \t\n",
      "Accuracy on the rbf-svm test set with C value 10.0 and gamma value 0.01: 0.8964\n",
      "---------------------------------------------\n",
      "Accuracy on the rbf-svm train set with C value 10.0 and gamma value 0.1: 0.9876 \t\n",
      "Accuracy on the rbf-svm test set with C value 10.0 and gamma value 0.1: 0.9276\n",
      "---------------------------------------------\n",
      "Accuracy on the rbf-svm train set with C value 10.0 and gamma value 1.0: 0.9997 \t\n",
      "Accuracy on the rbf-svm test set with C value 10.0 and gamma value 1.0: 0.9252\n",
      "---------------------------------------------\n",
      "Accuracy on the rbf-svm train set with C value 10.0 and gamma value 10.0: 0.9997 \t\n",
      "Accuracy on the rbf-svm test set with C value 10.0 and gamma value 10.0: 0.8052\n",
      "---------------------------------------------\n",
      "Accuracy on the rbf-svm train set with C value 10.0 and gamma value 100.0: 0.9997 \t\n",
      "Accuracy on the rbf-svm test set with C value 10.0 and gamma value 100.0: 0.8040\n",
      "---------------------------------------------\n",
      "Accuracy on the rbf-svm train set with C value 100.0 and gamma value 0.0001: 0.8143 \t\n",
      "Accuracy on the rbf-svm test set with C value 100.0 and gamma value 0.0001: 0.8136\n",
      "---------------------------------------------\n",
      "Accuracy on the rbf-svm train set with C value 100.0 and gamma value 0.001: 0.9046 \t\n",
      "Accuracy on the rbf-svm test set with C value 100.0 and gamma value 0.001: 0.8964\n",
      "---------------------------------------------\n",
      "Accuracy on the rbf-svm train set with C value 100.0 and gamma value 0.01: 0.9859 \t\n",
      "Accuracy on the rbf-svm test set with C value 100.0 and gamma value 0.01: 0.9256\n",
      "---------------------------------------------\n",
      "Accuracy on the rbf-svm train set with C value 100.0 and gamma value 0.1: 0.9997 \t\n",
      "Accuracy on the rbf-svm test set with C value 100.0 and gamma value 0.1: 0.9196\n",
      "---------------------------------------------\n",
      "Accuracy on the rbf-svm train set with C value 100.0 and gamma value 1.0: 0.9997 \t\n"
     ]
    },
    {
     "name": "stdout",
     "output_type": "stream",
     "text": [
      "Accuracy on the rbf-svm test set with C value 100.0 and gamma value 1.0: 0.9252\n",
      "---------------------------------------------\n",
      "Accuracy on the rbf-svm train set with C value 100.0 and gamma value 10.0: 0.9997 \t\n",
      "Accuracy on the rbf-svm test set with C value 100.0 and gamma value 10.0: 0.8052\n",
      "---------------------------------------------\n",
      "Accuracy on the rbf-svm train set with C value 100.0 and gamma value 100.0: 0.9997 \t\n",
      "Accuracy on the rbf-svm test set with C value 100.0 and gamma value 100.0: 0.8040\n",
      "---------------------------------------------\n",
      "Accuracy on the rbf-svm train set with C value 1000.0 and gamma value 0.0001: 0.9046 \t\n",
      "Accuracy on the rbf-svm test set with C value 1000.0 and gamma value 0.0001: 0.8964\n",
      "---------------------------------------------\n",
      "Accuracy on the rbf-svm train set with C value 1000.0 and gamma value 0.001: 0.9858 \t\n",
      "Accuracy on the rbf-svm test set with C value 1000.0 and gamma value 0.001: 0.9252\n",
      "---------------------------------------------\n",
      "Accuracy on the rbf-svm train set with C value 1000.0 and gamma value 0.01: 0.9992 \t\n",
      "Accuracy on the rbf-svm test set with C value 1000.0 and gamma value 0.01: 0.9084\n",
      "---------------------------------------------\n",
      "Accuracy on the rbf-svm train set with C value 1000.0 and gamma value 0.1: 0.9997 \t\n",
      "Accuracy on the rbf-svm test set with C value 1000.0 and gamma value 0.1: 0.9192\n",
      "---------------------------------------------\n",
      "Accuracy on the rbf-svm train set with C value 1000.0 and gamma value 1.0: 0.9997 \t\n",
      "Accuracy on the rbf-svm test set with C value 1000.0 and gamma value 1.0: 0.9252\n",
      "---------------------------------------------\n",
      "Accuracy on the rbf-svm train set with C value 1000.0 and gamma value 10.0: 0.9997 \t\n",
      "Accuracy on the rbf-svm test set with C value 1000.0 and gamma value 10.0: 0.8052\n",
      "---------------------------------------------\n",
      "Accuracy on the rbf-svm train set with C value 1000.0 and gamma value 100.0: 0.9997 \t\n",
      "Accuracy on the rbf-svm test set with C value 1000.0 and gamma value 100.0: 0.8040\n",
      "---------------------------------------------\n",
      "Accuracy on the rbf-svm train set with C value 10000.0 and gamma value 0.0001: 0.9856 \t\n",
      "Accuracy on the rbf-svm test set with C value 10000.0 and gamma value 0.0001: 0.9252\n",
      "---------------------------------------------\n",
      "Accuracy on the rbf-svm train set with C value 10000.0 and gamma value 0.001: 0.9991 \t\n",
      "Accuracy on the rbf-svm test set with C value 10000.0 and gamma value 0.001: 0.9060\n",
      "---------------------------------------------\n",
      "Accuracy on the rbf-svm train set with C value 10000.0 and gamma value 0.01: 0.9997 \t\n",
      "Accuracy on the rbf-svm test set with C value 10000.0 and gamma value 0.01: 0.9064\n",
      "---------------------------------------------\n",
      "Accuracy on the rbf-svm train set with C value 10000.0 and gamma value 0.1: 0.9997 \t\n",
      "Accuracy on the rbf-svm test set with C value 10000.0 and gamma value 0.1: 0.9192\n",
      "---------------------------------------------\n",
      "Accuracy on the rbf-svm train set with C value 10000.0 and gamma value 1.0: 0.9997 \t\n",
      "Accuracy on the rbf-svm test set with C value 10000.0 and gamma value 1.0: 0.9252\n",
      "---------------------------------------------\n",
      "Accuracy on the rbf-svm train set with C value 10000.0 and gamma value 10.0: 0.9997 \t\n",
      "Accuracy on the rbf-svm test set with C value 10000.0 and gamma value 10.0: 0.8052\n",
      "---------------------------------------------\n",
      "Accuracy on the rbf-svm train set with C value 10000.0 and gamma value 100.0: 0.9997 \t\n",
      "Accuracy on the rbf-svm test set with C value 10000.0 and gamma value 100.0: 0.8040\n",
      "---------------------------------------------\n",
      "Accuracy on the rbf-svm train set with C value 100000.0 and gamma value 0.0001: 0.9990 \t\n",
      "Accuracy on the rbf-svm test set with C value 100000.0 and gamma value 0.0001: 0.9048\n",
      "---------------------------------------------\n",
      "Accuracy on the rbf-svm train set with C value 100000.0 and gamma value 0.001: 0.9997 \t\n",
      "Accuracy on the rbf-svm test set with C value 100000.0 and gamma value 0.001: 0.9072\n",
      "---------------------------------------------\n",
      "Accuracy on the rbf-svm train set with C value 100000.0 and gamma value 0.01: 0.9997 \t\n",
      "Accuracy on the rbf-svm test set with C value 100000.0 and gamma value 0.01: 0.9064\n",
      "---------------------------------------------\n",
      "Accuracy on the rbf-svm train set with C value 100000.0 and gamma value 0.1: 0.9997 \t\n",
      "Accuracy on the rbf-svm test set with C value 100000.0 and gamma value 0.1: 0.9192\n",
      "---------------------------------------------\n",
      "Accuracy on the rbf-svm train set with C value 100000.0 and gamma value 1.0: 0.9997 \t\n",
      "Accuracy on the rbf-svm test set with C value 100000.0 and gamma value 1.0: 0.9252\n",
      "---------------------------------------------\n",
      "Accuracy on the rbf-svm train set with C value 100000.0 and gamma value 10.0: 0.9997 \t\n",
      "Accuracy on the rbf-svm test set with C value 100000.0 and gamma value 10.0: 0.8052\n",
      "---------------------------------------------\n",
      "Accuracy on the rbf-svm train set with C value 100000.0 and gamma value 100.0: 0.9997 \t\n",
      "Accuracy on the rbf-svm test set with C value 100000.0 and gamma value 100.0: 0.8040\n",
      "---------------------------------------------\n"
     ]
    }
   ],
   "source": [
    "c = [10e-4, 10e-3, 10e-2, 10e-1, 10e0, 10e1, 10e2, 10e3, 10e4]\n",
    "gamma_values = [10e-5, 10e-4, 10e-3, 10e-2, 10e-1, 10e0, 10e1]\n",
    "training_acc = []\n",
    "validation_acc = []\n",
    "n_support_vectors = []\n",
    "\n",
    "for i in c:\n",
    "    for gamma in gamma_values:\n",
    "        rbf_clf, train_acc = rbf_svm(i, tfidf_mat_train, y_train, gamma)\n",
    "        rbf_ypred = rbf_clf.predict(X_test)\n",
    "        rbf_acc = accuracy_score(rbf_ypred, y_dev)\n",
    "        training_acc.append(train_acc)\n",
    "        validation_acc.append(rbf_acc)\n",
    "        n_support_vectors.append(sum(rbf_clf.n_support_))\n",
    "        print(f\"Accuracy on the rbf-svm test set with C value {i} and gamma value {gamma}: {rbf_acc:.4f}\")\n",
    "        print(\"---------------------------------------------\")"
   ]
  },
  {
   "cell_type": "code",
   "execution_count": 208,
   "id": "e05465fc",
   "metadata": {},
   "outputs": [],
   "source": [
    "training_accuracy = np.array(training_acc)\n",
    "training_accuracy = np.reshape(training_accuracy, (len(c), len(gamma_values)))\n",
    "validation_accuracy = np.array(validation_acc)\n",
    "validation_accuracy = np.reshape(validation_accuracy, (len(c), len(gamma_values)))"
   ]
  },
  {
   "cell_type": "markdown",
   "id": "4cf0892e",
   "metadata": {},
   "source": [
    "###### plot of the training and validation accuracy for rbf svm"
   ]
  },
  {
   "cell_type": "code",
   "execution_count": 209,
   "id": "cb4566fb",
   "metadata": {},
   "outputs": [],
   "source": [
    "from matplotlib.colors import Normalize\n",
    "\n",
    "class MidpointNormalize(Normalize):\n",
    "    def __init__(self, vmin=None, vmax=None, midpoint=None, clip=False):\n",
    "        self.midpoint = midpoint\n",
    "        Normalize.__init__(self, vmin, vmax, clip)\n",
    "\n",
    "    def __call__(self, value, clip=None):\n",
    "        x, y = [self.vmin, self.midpoint, self.vmax], [0, 0.5, 1]\n",
    "        return np.ma.masked_array(np.interp(value, x, y))"
   ]
  },
  {
   "cell_type": "code",
   "execution_count": 210,
   "id": "3f879085",
   "metadata": {},
   "outputs": [
    {
     "name": "stdout",
     "output_type": "stream",
     "text": [
      "Done.\n",
      "\n"
     ]
    },
    {
     "data": {
      "image/png": "[encoded data removed]",
      "text/plain": [
       "<Figure size 576x432 with 2 Axes>"
      ]
     },
     "metadata": {
      "needs_background": "light"
     },
     "output_type": "display_data"
    }
   ],
   "source": [
    "plt.figure(figsize=(8, 6))\n",
    "plt.subplots_adjust(left=0.2, right=0.95, bottom=0.15, top=0.95)\n",
    "plt.imshow(\n",
    "    training_accuracy,\n",
    "    interpolation=\"nearest\",\n",
    "    cmap=plt.cm.hot,\n",
    "    norm=MidpointNormalize(vmin=0.2, midpoint=0.92),\n",
    ")\n",
    "plt.xlabel(\"gamma\")\n",
    "plt.ylabel(\"C\")\n",
    "plt.colorbar()\n",
    "plt.xticks(np.arange(len(gamma_values)), gamma_values, rotation=45)\n",
    "plt.yticks(np.arange(len(c)), c)\n",
    "plt.title(\"Training accuracy\")\n",
    "plt.savefig(\"training_acc_rbf.jpg\")\n",
    "print('Done.\\n')\n",
    "plt.show()"
   ]
  },
  {
   "cell_type": "code",
   "execution_count": 211,
   "id": "df073e51",
   "metadata": {},
   "outputs": [
    {
     "name": "stdout",
     "output_type": "stream",
     "text": [
      "Done.\n",
      "\n"
     ]
    },
    {
     "data": {
      "image/png": "[encoded data removed]",
      "text/plain": [
       "<Figure size 576x432 with 2 Axes>"
      ]
     },
     "metadata": {
      "needs_background": "light"
     },
     "output_type": "display_data"
    }
   ],
   "source": [
    "plt.figure(figsize=(8, 6))\n",
    "plt.subplots_adjust(left=0.2, right=0.95, bottom=0.15, top=0.95)\n",
    "plt.imshow(\n",
    "    validation_accuracy,\n",
    "    interpolation=\"nearest\",\n",
    "    cmap=plt.cm.hot,\n",
    "    norm=MidpointNormalize(vmin=0.2, midpoint=0.92),\n",
    ")\n",
    "plt.xlabel(\"gamma\")\n",
    "plt.ylabel(\"C\")\n",
    "plt.colorbar()\n",
    "plt.xticks(np.arange(len(gamma_values)), gamma_values, rotation=45)\n",
    "plt.yticks(np.arange(len(c)), c)\n",
    "plt.title(\"Validation accuracy\")\n",
    "plt.savefig(\"validation_acc_rbf.jpg\")\n",
    "print('Done.\\n')\n",
    "plt.show()"
   ]
  },
  {
   "cell_type": "markdown",
   "id": "dcb71dbd",
   "metadata": {},
   "source": [
    "###### plot of the number of support vectors versus the regularization parameters, c for rbf kernel svm"
   ]
  },
  {
   "cell_type": "code",
   "execution_count": 212,
   "id": "d1bdd635",
   "metadata": {},
   "outputs": [
    {
     "name": "stdout",
     "output_type": "stream",
     "text": [
      "Accuracy on the rbf-svm train set with C value 0.001 and gamma value 0.1: 0.7963 \t\n",
      "Accuracy on the rbf-svm train set with C value 0.01 and gamma value 0.1: 0.7963 \t\n",
      "Accuracy on the rbf-svm train set with C value 0.1 and gamma value 0.1: 0.8102 \t\n",
      "Accuracy on the rbf-svm train set with C value 1.0 and gamma value 0.1: 0.8981 \t\n",
      "Accuracy on the rbf-svm train set with C value 10.0 and gamma value 0.1: 0.9876 \t\n",
      "Accuracy on the rbf-svm train set with C value 100.0 and gamma value 0.1: 0.9997 \t\n",
      "Accuracy on the rbf-svm train set with C value 1000.0 and gamma value 0.1: 0.9997 \t\n",
      "Accuracy on the rbf-svm train set with C value 10000.0 and gamma value 0.1: 0.9997 \t\n",
      "Accuracy on the rbf-svm train set with C value 100000.0 and gamma value 0.1: 0.9997 \t\n",
      "Done.\n",
      "\n"
     ]
    },
    {
     "data": {
      "image/png": "[encoded data removed]",
      "text/plain": [
       "<Figure size 576x432 with 1 Axes>"
      ]
     },
     "metadata": {
      "needs_background": "light"
     },
     "output_type": "display_data"
    }
   ],
   "source": [
    "c = [10e-4, 10e-3, 10e-2, 10e-1, 10e0, 10e1, 10e2, 10e3, 10e4]\n",
    "n_support_vectors_rbf = []\n",
    "\n",
    "for i in c:\n",
    "    rbf_clf, train_acc = rbf_svm(i, tfidf_mat_train, y_train, 0.1)\n",
    "    rbf_ypred = rbf_clf.predict(X_test)\n",
    "    rbf_acc = accuracy_score(rbf_ypred, y_dev)\n",
    "    n_support_vectors_rbf.append(sum(rbf_clf.n_support_))\n",
    "        \n",
    "c = [1e-4, 1e-3, 1e-2, 1e-1, 1, 1e1, 1e2, 1e3, 1e4]\n",
    "fig, ax4 = plt.subplots(figsize=(8, 6), tight_layout=True)\n",
    "ax4.semilogx(c, n_support_vectors_rbf, color='r', marker='o', markerfacecolor='m')\n",
    "\n",
    "ax4.set_ylabel(f'no of support vectors', color='r')\n",
    "ax4.set_xlabel(f'c')\n",
    "ax4.set_xlim([1e-4, 1e4])\n",
    "ax4.set_ylim(2300, 4000)\n",
    "ax4.set_title(f\"Number of support vectors for fixed gamma\", color='k', weight='normal', size=10)\n",
    "\n",
    "plt.savefig(\"rbf_svs_fixedlambda.jpg\")\n",
    "print('Done.\\n')"
   ]
  },
  {
   "cell_type": "code",
   "execution_count": 199,
   "id": "32ecb020",
   "metadata": {},
   "outputs": [
    {
     "name": "stdout",
     "output_type": "stream",
     "text": [
      "Accuracy on the rbf-svm train set with C value 10 and gamma value 0.0001: 0.7963 \t\n",
      "Accuracy on the rbf-svm train set with C value 10 and gamma value 0.001: 0.8143 \t\n",
      "Accuracy on the rbf-svm train set with C value 10 and gamma value 0.01: 0.9041 \t\n",
      "Accuracy on the rbf-svm train set with C value 10 and gamma value 0.1: 0.9876 \t\n",
      "Accuracy on the rbf-svm train set with C value 10 and gamma value 1.0: 0.9997 \t\n",
      "Accuracy on the rbf-svm train set with C value 10 and gamma value 10.0: 0.9997 \t\n",
      "Accuracy on the rbf-svm train set with C value 10 and gamma value 100.0: 0.9997 \t\n",
      "Done.\n",
      "\n"
     ]
    },
    {
     "data": {
      "image/png": "[encoded data removed]",
      "text/plain": [
       "<Figure size 576x432 with 1 Axes>"
      ]
     },
     "metadata": {
      "needs_background": "light"
     },
     "output_type": "display_data"
    }
   ],
   "source": [
    "c = [10e0]\n",
    "gamma_values = [10e-5, 10e-4, 10e-3, 10e-2, 10e-1, 10e0, 10e1]\n",
    "n_support_vectors_rbf2 = []\n",
    "\n",
    "for gamma in gamma_values:\n",
    "    rbf_clf, train_acc = rbf_svm(10, tfidf_mat_train, y_train, gamma)\n",
    "    rbf_ypred = rbf_clf.predict(X_test)\n",
    "    rbf_acc = accuracy_score(rbf_ypred, y_dev)\n",
    "    n_support_vectors_rbf2.append(sum(rbf_clf.n_support_))\n",
    "        \n",
    "ga = [1e-5, 1e-4, 1e-3, 1e-2, 1e-1, 1e0, 1e1]\n",
    "fig, ax4 = plt.subplots(figsize=(8, 6), tight_layout=True)\n",
    "ax4.semilogx(ga, n_support_vectors_rbf2, color='r', marker='o', markerfacecolor='m')\n",
    "\n",
    "ax4.set_ylabel(f'no of support vectors', color='r')\n",
    "ax4.set_xlabel(f'gamma')\n",
    "ax4.set_xlim([1e-5, 1e1])\n",
    "ax4.set_ylim(300, 9000)\n",
    "ax4.set_title(f\"Number of support vectors for fixed c\", color='k', weight='normal', size=10)\n",
    "\n",
    "plt.savefig(\"rbf_svs_fixedc.jpg\")\n",
    "print('Done.\\n')"
   ]
  },
  {
   "cell_type": "code",
   "execution_count": 203,
   "id": "8483e345",
   "metadata": {},
   "outputs": [
    {
     "name": "stdout",
     "output_type": "stream",
     "text": [
      "Package                       Version\n",
      "----------------------------- --------------------\n",
      "aiohttp                       3.8.1\n",
      "aiosignal                     1.2.0\n",
      "alabaster                     0.7.12\n",
      "anaconda-client               1.9.0\n",
      "anaconda-navigator            2.1.4\n",
      "anaconda-project              0.10.2\n",
      "anyio                         3.5.0\n",
      "appdirs                       1.4.4\n",
      "argon2-cffi                   21.3.0\n",
      "argon2-cffi-bindings          21.2.0\n",
      "arrow                         1.2.2\n",
      "astroid                       2.6.6\n",
      "astropy                       5.0.4\n",
      "asttokens                     2.0.5\n",
      "async-timeout                 4.0.1\n",
      "atomicwrites                  1.4.0\n",
      "attrs                         21.4.0\n",
      "Automat                       20.2.0\n",
      "autopep8                      1.6.0\n",
      "Babel                         2.9.1\n",
      "backcall                      0.2.0\n",
      "backports.functools-lru-cache 1.6.4\n",
      "backports.tempfile            1.0\n",
      "backports.weakref             1.0.post1\n",
      "bcrypt                        3.2.0\n",
      "beautifulsoup4                4.11.1\n",
      "binaryornot                   0.4.4\n",
      "bitarray                      2.4.1\n",
      "bkcharts                      0.2\n",
      "black                         19.10b0\n",
      "bleach                        4.1.0\n",
      "bokeh                         2.4.2\n",
      "boto3                         1.21.32\n",
      "botocore                      1.24.32\n",
      "Bottleneck                    1.3.4\n",
      "brotlipy                      0.7.0\n",
      "cachetools                    4.2.2\n",
      "certifi                       2021.10.8\n",
      "cffi                          1.15.0\n",
      "chardet                       4.0.0\n",
      "charset-normalizer            2.0.4\n",
      "click                         8.0.4\n",
      "cloudpickle                   2.0.0\n",
      "clyent                        1.2.2\n",
      "colorama                      0.4.4\n",
      "colorcet                      2.0.6\n",
      "comtypes                      1.1.10\n",
      "conda                         4.12.0\n",
      "conda-build                   3.21.8\n",
      "conda-content-trust           0+unknown\n",
      "conda-pack                    0.6.0\n",
      "conda-package-handling        1.8.1\n",
      "conda-repo-cli                1.0.4\n",
      "conda-token                   0.3.0\n",
      "conda-verify                  3.4.2\n",
      "constantly                    15.1.0\n",
      "cookiecutter                  1.7.3\n",
      "cryptography                  3.4.8\n",
      "cssselect                     1.1.0\n",
      "cycler                        0.11.0\n",
      "Cython                        0.29.28\n",
      "cytoolz                       0.11.0\n",
      "daal4py                       2021.5.0\n",
      "dask                          2022.2.1\n",
      "datashader                    0.13.0\n",
      "datashape                     0.5.4\n",
      "debugpy                       1.5.1\n",
      "decorator                     5.1.1\n",
      "defusedxml                    0.7.1\n",
      "diff-match-patch              20200713\n",
      "distributed                   2022.2.1\n",
      "docutils                      0.17.1\n",
      "entrypoints                   0.4\n",
      "et-xmlfile                    1.1.0\n",
      "executing                     0.8.3\n",
      "fastjsonschema                2.15.1\n",
      "filelock                      3.6.0\n",
      "flake8                        3.9.2\n",
      "Flask                         1.1.2\n",
      "fonttools                     4.25.0\n",
      "frozenlist                    1.2.0\n",
      "fsspec                        2022.2.0\n",
      "future                        0.18.2\n",
      "gensim                        4.1.2\n",
      "glob2                         0.7\n",
      "google-api-core               1.25.1\n",
      "google-auth                   1.33.0\n",
      "google-cloud-core             1.7.1\n",
      "google-cloud-storage          1.31.0\n",
      "google-crc32c                 1.1.2\n",
      "google-resumable-media        1.3.1\n",
      "googleapis-common-protos      1.53.0\n",
      "greenlet                      1.1.1\n",
      "grpcio                        1.42.0\n",
      "h5py                          3.6.0\n",
      "HeapDict                      1.0.1\n",
      "holoviews                     1.14.8\n",
      "hvplot                        0.7.3\n",
      "hyperlink                     21.0.0\n",
      "idna                          3.3\n",
      "imagecodecs                   2021.8.26\n",
      "imageio                       2.9.0\n",
      "imagesize                     1.3.0\n",
      "importlib-metadata            4.11.3\n",
      "incremental                   21.3.0\n",
      "inflection                    0.5.1\n",
      "iniconfig                     1.1.1\n",
      "intake                        0.6.5\n",
      "intervaltree                  3.1.0\n",
      "ipykernel                     6.9.1\n",
      "ipython                       8.2.0\n",
      "ipython-genutils              0.2.0\n",
      "ipywidgets                    7.6.5\n",
      "isort                         5.9.3\n",
      "itemadapter                   0.3.0\n",
      "itemloaders                   1.0.4\n",
      "itsdangerous                  2.0.1\n",
      "jdcal                         1.4.1\n",
      "jedi                          0.18.1\n",
      "Jinja2                        2.11.3\n",
      "jinja2-time                   0.2.0\n",
      "jmespath                      0.10.0\n",
      "joblib                        1.1.0\n",
      "json5                         0.9.6\n",
      "jsonschema                    4.4.0\n",
      "jupyter                       1.0.0\n",
      "jupyter-client                6.1.12\n",
      "jupyter-console               6.4.0\n",
      "jupyter-core                  4.9.2\n",
      "jupyter-server                1.13.5\n",
      "jupyterlab                    3.3.2\n",
      "jupyterlab-pygments           0.1.2\n",
      "jupyterlab-server             2.10.3\n",
      "jupyterlab-widgets            1.0.0\n",
      "keyring                       23.4.0Note: you may need to restart the kernel to use updated packages.\n",
      "kiwisolver                    1.3.2\n",
      "lazy-object-proxy             1.6.0\n",
      "libarchive-c                  2.9\n",
      "llvmlite                      0.38.0\n",
      "locket                        0.2.1\n",
      "lxml                          4.8.0\n",
      "Markdown                      3.3.4\n",
      "MarkupSafe                    2.0.1\n",
      "matplotlib                    3.5.1\n",
      "matplotlib-inline             0.1.2\n",
      "mccabe                        0.6.1\n",
      "menuinst                      1.4.18\n",
      "mistune                       0.8.4\n",
      "mkl-fft                       1.3.1\n",
      "\n",
      "mkl-random                    1.2.2\n",
      "mkl-service                   2.4.0\n",
      "mock                          4.0.3\n",
      "mpmath                        1.2.1\n",
      "msgpack                       1.0.2\n",
      "multidict                     5.1.0\n",
      "multipledispatch              0.6.0\n",
      "munkres                       1.1.4\n",
      "mypy-extensions               0.4.3\n",
      "navigator-updater             0.2.1\n",
      "nbclassic                     0.3.5\n",
      "nbclient                      0.5.13\n",
      "nbconvert                     6.4.4\n",
      "nbformat                      5.3.0\n",
      "nest-asyncio                  1.5.5\n",
      "networkx                      2.7.1\n",
      "nltk                          3.7\n",
      "nose                          1.3.7\n",
      "notebook                      6.4.8\n",
      "numba                         0.55.1\n",
      "numexpr                       2.8.1\n",
      "numpy                         1.21.5\n",
      "numpydoc                      1.2\n",
      "olefile                       0.46\n",
      "openpyxl                      3.0.9\n",
      "packaging                     21.3\n",
      "pandas                        1.4.2\n",
      "pandocfilters                 1.5.0\n",
      "panel                         0.13.0\n",
      "param                         1.12.0\n",
      "paramiko                      2.8.1\n",
      "parsel                        1.6.0\n",
      "parso                         0.8.3\n",
      "partd                         1.2.0\n",
      "pathspec                      0.7.0\n",
      "patsy                         0.5.2\n",
      "pep8                          1.7.1\n",
      "pexpect                       4.8.0\n",
      "pickleshare                   0.7.5\n",
      "Pillow                        9.0.1\n",
      "pip                           21.2.4\n",
      "pkginfo                       1.8.2\n",
      "plotly                        5.6.0\n",
      "pluggy                        1.0.0\n",
      "poyo                          0.5.0\n",
      "prometheus-client             0.13.1\n",
      "prompt-toolkit                3.0.20\n",
      "Protego                       0.1.16\n",
      "protobuf                      3.19.1\n",
      "psutil                        5.8.0\n",
      "ptyprocess                    0.7.0\n",
      "pure-eval                     0.2.2\n",
      "py                            1.11.0\n",
      "pyasn1                        0.4.8\n",
      "pyasn1-modules                0.2.8\n",
      "pycodestyle                   2.7.0\n",
      "pycosat                       0.6.3\n",
      "pycparser                     2.21\n",
      "pyct                          0.4.6\n",
      "pycurl                        7.44.1\n",
      "PyDispatcher                  2.0.5\n",
      "pydocstyle                    6.1.1\n",
      "pyerfa                        2.0.0\n",
      "pyflakes                      2.3.1\n",
      "Pygments                      2.11.2\n",
      "PyHamcrest                    2.0.2\n",
      "PyJWT                         2.1.0\n",
      "pylint                        2.9.6\n",
      "pyls-spyder                   0.4.0\n",
      "PyNaCl                        1.4.0\n",
      "pyodbc                        4.0.32\n",
      "pyOpenSSL                     21.0.0\n",
      "pyparsing                     3.0.4\n",
      "pyreadline                    2.1\n",
      "pyrsistent                    0.18.0\n",
      "PySocks                       1.7.1\n",
      "pytest                        7.1.1\n",
      "python-dateutil               2.8.2\n",
      "python-lsp-black              1.0.0\n",
      "python-lsp-jsonrpc            1.0.0\n",
      "python-lsp-server             1.2.4\n",
      "python-slugify                5.0.2\n",
      "python-snappy                 0.6.0\n",
      "pytz                          2021.3\n",
      "pyviz-comms                   2.0.2\n",
      "PyWavelets                    1.3.0\n",
      "pywin32                       302\n",
      "pywin32-ctypes                0.2.0\n",
      "pywinpty                      2.0.2\n",
      "PyYAML                        6.0\n",
      "pyzmq                         22.3.0\n",
      "QDarkStyle                    3.0.2\n",
      "qstylizer                     0.1.10\n",
      "QtAwesome                     1.0.3\n",
      "qtconsole                     5.3.0\n",
      "QtPy                          2.0.1\n",
      "queuelib                      1.5.0\n",
      "regex                         2022.3.15\n",
      "requests                      2.27.1\n",
      "requests-file                 1.5.1\n",
      "rope                          0.22.0\n",
      "rsa                           4.7.2\n",
      "Rtree                         0.9.7\n",
      "ruamel-yaml-conda             0.15.100\n",
      "s3transfer                    0.5.0\n",
      "scikit-image                  0.19.2\n",
      "scikit-learn                  1.0.2\n",
      "scikit-learn-intelex          2021.20220215.102710\n",
      "scipy                         1.7.3\n",
      "Scrapy                        2.6.1\n",
      "seaborn                       0.11.2\n",
      "Send2Trash                    1.8.0\n",
      "service-identity              18.1.0\n",
      "setuptools                    61.2.0\n",
      "sip                           4.19.13\n",
      "six                           1.16.0\n",
      "smart-open                    5.1.0\n",
      "sniffio                       1.2.0\n",
      "snowballstemmer               2.2.0\n",
      "sortedcollections             2.1.0\n",
      "sortedcontainers              2.4.0\n",
      "soupsieve                     2.3.1\n",
      "Sphinx                        4.4.0\n",
      "sphinxcontrib-applehelp       1.0.2\n",
      "sphinxcontrib-devhelp         1.0.2\n",
      "sphinxcontrib-htmlhelp        2.0.0\n",
      "sphinxcontrib-jsmath          1.0.1\n",
      "sphinxcontrib-qthelp          1.0.3\n",
      "sphinxcontrib-serializinghtml 1.1.5\n",
      "spyder                        5.1.5\n",
      "spyder-kernels                2.1.3\n",
      "SQLAlchemy                    1.4.32\n",
      "stack-data                    0.2.0\n",
      "statsmodels                   0.13.2\n",
      "sympy                         1.10.1\n",
      "tables                        3.6.1\n",
      "tabulate                      0.8.9\n",
      "TBB                           0.2\n",
      "tblib                         1.7.0\n",
      "tenacity                      8.0.1\n",
      "terminado                     0.13.1\n",
      "testpath                      0.5.0\n",
      "text-unidecode                1.3\n",
      "textdistance                  4.2.1\n",
      "threadpoolctl                 2.2.0\n",
      "three-merge                   0.1.1\n",
      "tifffile                      2021.7.2\n",
      "tinycss                       0.4\n",
      "tldextract                    3.2.0\n",
      "toml                          0.10.2\n",
      "tomli                         1.2.2\n",
      "toolz                         0.11.2\n",
      "tornado                       6.1\n",
      "tqdm                          4.64.0\n",
      "traitlets                     5.1.1\n",
      "Twisted                       22.2.0\n",
      "twisted-iocpsupport           1.0.2\n",
      "typed-ast                     1.4.3\n",
      "typing_extensions             4.1.1\n",
      "ujson                         5.1.0\n",
      "Unidecode                     1.2.0\n",
      "urllib3                       1.26.9\n",
      "w3lib                         1.21.0\n",
      "watchdog                      2.1.6\n",
      "wcwidth                       0.2.5\n",
      "webencodings                  0.5.1\n",
      "websocket-client              0.58.0\n",
      "Werkzeug                      2.0.3\n",
      "wheel                         0.37.1\n",
      "widgetsnbextension            3.5.2\n",
      "win-inet-pton                 1.1.0\n",
      "win-unicode-console           0.5\n",
      "wincertstore                  0.2\n",
      "wrapt                         1.12.1\n",
      "xarray                        0.20.1\n",
      "xlrd                          2.0.1\n",
      "XlsxWriter                    3.0.3\n",
      "xlwings                       0.24.9\n",
      "yapf                          0.31.0\n",
      "yarl                          1.6.3\n",
      "zict                          2.0.0\n",
      "zipp                          3.7.0\n",
      "zope.interface                5.4.0\n"
     ]
    }
   ],
   "source": [
    "pip list"
   ]
  }
 ],
 "metadata": {
  "kernelspec": {
   "display_name": "Python 3 (ipykernel)",
   "language": "python",
   "name": "python3"
  },
  "language_info": {
   "codemirror_mode": {
    "name": "ipython",
    "version": 3
   },
   "file_extension": ".py",
   "mimetype": "text/x-python",
   "name": "python",
   "nbconvert_exporter": "python",
   "pygments_lexer": "ipython3",
   "version": "3.9.12"
  }
 },
 "nbformat": 4,
 "nbformat_minor": 5
}
